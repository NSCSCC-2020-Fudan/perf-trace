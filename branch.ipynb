{
 "cells": [
  {
   "cell_type": "code",
   "execution_count": 18,
   "metadata": {},
   "outputs": [],
   "source": [
    "import re\n",
    "import operator\n",
    "import itertools\n",
    "import collections\n",
    "\n",
    "Instruction = collections.namedtuple('Instruction', ['addr', 'op', 'target'])"
   ]
  },
  {
   "cell_type": "code",
   "execution_count": 2,
   "metadata": {},
   "outputs": [],
   "source": [
    "def translate(vaddr_str):\n",
    "    vaddr = int(vaddr_str, base=16)\n",
    "    if 0x80000000 <= vaddr <= 0x9FFFFFFF:\n",
    "        addr = vaddr - 0x80000000\n",
    "    elif 0xA0000000 <= vaddr <= 0xBFFFFFFF:\n",
    "        addr = vaddr - 0xA0000000\n",
    "    else:\n",
    "        raise ValueError(vaddr_str)\n",
    "    return addr\n",
    "\n",
    "def unique(iterable, key=None):\n",
    "    \"List unique elements, preserving order. Remember only the element just seen.\"\n",
    "    # unique_justseen('AAAABBBCCDAABBB') --> A B C D A B\n",
    "    # unique_justseen('ABBCcAD', str.lower) --> A B C A D\n",
    "    return map(next, map(operator.itemgetter(1), itertools.groupby(iterable, key)))"
   ]
  },
  {
   "cell_type": "code",
   "execution_count": 52,
   "metadata": {},
   "outputs": [],
   "source": [
    "def run(strategy, target):\n",
    "    with open(f'{target}/{target}.si') as fp:\n",
    "        content = fp.read()\n",
    "\n",
    "    def convert(raw):\n",
    "        addr, op, target = raw\n",
    "        addr = translate(addr)\n",
    "        target = translate(target)\n",
    "        return addr, Instruction(addr=addr, op=op, target=target)\n",
    "\n",
    "    pattern = '([0-9a-f]{8}):\\s[0-9a-f]{8}\\s+([bj][a-z]*).+([0-9a-f]{8})'\n",
    "    branch = dict(map(convert, re.findall(pattern, content)))\n",
    "\n",
    "    with open(f'{target}/{target}.txt') as fp:\n",
    "        content = fp.read()\n",
    "\n",
    "    pattern = '([0-9a-f]{8}),[0-9a-f],[0-9a-f]{2},[0-9a-f]{8}'\n",
    "    pc = list(unique(map(translate, re.findall(pattern, content))))\n",
    "\n",
    "    p = strategy()\n",
    "    branch_count = [0, 0]\n",
    "    correct_count = 0\n",
    "    for i, addr in enumerate(pc):\n",
    "        if addr not in branch:\n",
    "            continue\n",
    "        if i + 2 >= len(pc):\n",
    "            # print(i)\n",
    "            continue\n",
    "\n",
    "        instr = branch[addr]\n",
    "        taken = instr.target == pc[i + 2]\n",
    "        branch_count[int(taken)] += 1\n",
    "        if taken == p.predict(instr):\n",
    "            correct_count += 1\n",
    "        p.update(instr, taken)\n",
    "\n",
    "    return branch_count, correct_count"
   ]
  },
  {
   "cell_type": "code",
   "execution_count": 34,
   "metadata": {},
   "outputs": [],
   "source": [
    "def evaluate(strategy):\n",
    "    tests = [\n",
    "        'bitcount', 'bubble_sort', 'coremark', 'crc32', 'dhrystone',\n",
    "        'quick_sort', 'select_sort', 'sha', 'stream_copy', 'stringsearch'\n",
    "    ]\n",
    "\n",
    "    sum_correct_count = 0\n",
    "    sum_branch_count = 0\n",
    "    for test in tests:\n",
    "        branch_count, correct_count = run(strategy, test)\n",
    "        accuracy = correct_count / sum(branch_count)\n",
    "        print(f'{format(test, \"15s\")}{format(100 * accuracy, \"-5.2f\")}%, {branch_count}')\n",
    "        sum_correct_count += correct_count\n",
    "        sum_branch_count += sum(branch_count)\n",
    "    \n",
    "    accuracy = sum_correct_count / sum_branch_count\n",
    "    print(f'{format(\"(avg.)\", \"15s\")}{format(100 * accuracy, \"-5.2f\")}%')"
   ]
  },
  {
   "cell_type": "code",
   "execution_count": 57,
   "metadata": {},
   "outputs": [],
   "source": [
    "class AlwaysTaken:\n",
    "    def __init__(self):\n",
    "        pass\n",
    "    \n",
    "    def predict(self, instr: Instruction) -> bool:\n",
    "        return True\n",
    "    \n",
    "    def update(self, instr: Instruction, taken: bool):\n",
    "        pass"
   ]
  },
  {
   "cell_type": "code",
   "execution_count": 27,
   "metadata": {},
   "outputs": [],
   "source": [
    "class AlwaysNotTaken:\n",
    "    def __init__(self):\n",
    "        pass\n",
    "    \n",
    "    def predict(self, instr: Instruction) -> bool:\n",
    "        return False\n",
    "    \n",
    "    def update(self, instr: Instruction, taken: bool):\n",
    "        pass"
   ]
  },
  {
   "cell_type": "code",
   "execution_count": 28,
   "metadata": {},
   "outputs": [],
   "source": [
    "class BackwardsTakenForwardsNotTaken:\n",
    "    def __init__(self):\n",
    "        pass\n",
    "\n",
    "    def predict(self, instr: Instruction) -> bool:\n",
    "        return instr.target <= instr.addr\n",
    "\n",
    "    def update(self, instr: Instruction, taken: bool):\n",
    "        pass"
   ]
  },
  {
   "cell_type": "code",
   "execution_count": 55,
   "metadata": {},
   "outputs": [],
   "source": [
    "class XuYipei:\n",
    "    def __init__(self, n = 64):\n",
    "        self.mask = 0x3f\n",
    "        self.shamt = 8\n",
    "        self.bpb = [0] * n\n",
    "        self.tag = [None] * n\n",
    "\n",
    "    def predict(self, instr: Instruction) -> bool:\n",
    "        index = (instr.addr >> 2) & self.mask\n",
    "        tag = instr.addr >> self.shamt\n",
    "\n",
    "        if self.tag[index] != tag:\n",
    "            self.tag[index] = tag\n",
    "            self.bpb[index] = 0b01\n",
    "        return self.bpb[index] > 1\n",
    "\n",
    "    def update(self, instr: Instruction, taken: bool):\n",
    "        index = (instr.addr >> 2) & self.mask\n",
    "        tag = instr.addr >> self.shamt\n",
    "        assert self.tag[index] == tag\n",
    "\n",
    "        v = self.bpb[index]\n",
    "        if taken:\n",
    "            v += 1\n",
    "        else:\n",
    "            v -= 1\n",
    "        if v > 3:\n",
    "            v = 3\n",
    "        if v < 0:\n",
    "            v = 0\n",
    "        self.bpb[index] = v"
   ]
  },
  {
   "cell_type": "code",
   "execution_count": 58,
   "metadata": {},
   "outputs": [
    {
     "output_type": "stream",
     "name": "stdout",
     "text": "\n# XuYipei\nbitcount       86.40%, [2918, 1104]\nbubble_sort    68.55%, [12030, 12693]\ncoremark       84.50%, [38421, 32751]\ncrc32          93.34%, [2398, 47728]\ndhrystone      74.12%, [3402, 7027]\nquick_sort     79.79%, [16412, 15591]\nselect_sort    94.69%, [7547, 44086]\nsha            96.21%, [2691, 20131]\nstream_copy    87.82%, [230, 1733]\nstringsearch   84.12%, [5681, 15831]\n(avg.)         86.53%\n\n# AlwaysTaken\nbitcount       27.45%, [2918, 1104]\nbubble_sort    51.34%, [12030, 12693]\ncoremark       46.02%, [38421, 32751]\ncrc32          95.22%, [2398, 47728]\ndhrystone      67.38%, [3402, 7027]\nquick_sort     48.72%, [16412, 15591]\nselect_sort    85.38%, [7547, 44086]\nsha            88.21%, [2691, 20131]\nstream_copy    88.28%, [230, 1733]\nstringsearch   73.59%, [5681, 15831]\n(avg.)         68.41%\n\n# AlwaysNotTaken\nbitcount       72.55%, [2918, 1104]\nbubble_sort    48.66%, [12030, 12693]\ncoremark       53.98%, [38421, 32751]\ncrc32           4.78%, [2398, 47728]\ndhrystone      32.62%, [3402, 7027]\nquick_sort     51.28%, [16412, 15591]\nselect_sort    14.62%, [7547, 44086]\nsha            11.79%, [2691, 20131]\nstream_copy    11.72%, [230, 1733]\nstringsearch   26.41%, [5681, 15831]\n(avg.)         31.59%\n\n# BackwardsTakenForwardsNotTaken\nbitcount       87.64%, [2918, 1104]\nbubble_sort    58.41%, [12030, 12693]\ncoremark       76.71%, [38421, 32751]\ncrc32          90.53%, [2398, 47728]\ndhrystone      80.63%, [3402, 7027]\nquick_sort     70.42%, [16412, 15591]\nselect_sort    33.35%, [7547, 44086]\nsha            94.37%, [2691, 20131]\nstream_copy    41.62%, [230, 1733]\nstringsearch   86.87%, [5681, 15831]\n(avg.)         71.33%\n"
    }
   ],
   "source": [
    "strategies = [\n",
    "    XuYipei,\n",
    "    AlwaysTaken,\n",
    "    AlwaysNotTaken,\n",
    "    BackwardsTakenForwardsNotTaken\n",
    "]\n",
    "\n",
    "for strategy in strategies:\n",
    "    print(f'\\n# {strategy.__name__}')\n",
    "    evaluate(strategy)"
   ]
  },
  {
   "cell_type": "code",
   "execution_count": null,
   "metadata": {},
   "outputs": [],
   "source": []
  }
 ],
 "metadata": {
  "language_info": {
   "codemirror_mode": {
    "name": "ipython",
    "version": 3
   },
   "file_extension": ".py",
   "mimetype": "text/x-python",
   "name": "python",
   "nbconvert_exporter": "python",
   "pygments_lexer": "ipython3",
   "version": "3.8.3-final"
  },
  "orig_nbformat": 2,
  "kernelspec": {
   "name": "python38264bit5c696f5e9b0b4bef9ebf4dbdc9292845",
   "display_name": "Python 3.8.2 64-bit"
  }
 },
 "nbformat": 4,
 "nbformat_minor": 2
}