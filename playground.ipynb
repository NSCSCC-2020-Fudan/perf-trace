{
 "cells": [
  {
   "cell_type": "code",
   "execution_count": 1,
   "metadata": {},
   "outputs": [],
   "source": [
    "import copy\n",
    "from collections import Counter"
   ]
  },
  {
   "cell_type": "code",
   "execution_count": 2,
   "metadata": {},
   "outputs": [],
   "source": [
    "def translate(vaddr_str):\n",
    "    vaddr = int(vaddr_str, base=16)\n",
    "    if 0x80000000 <= vaddr <= 0x9FFFFFFF:\n",
    "        addr = vaddr - 0x80000000\n",
    "    elif 0xA0000000 <= vaddr <= 0xBFFFFFFF:\n",
    "        addr = vaddr - 0xA0000000\n",
    "    else:\n",
    "        raise ValueError(vaddr_str)\n",
    "    return '{:08x}'.format(addr)"
   ]
  },
  {
   "cell_type": "code",
   "execution_count": 3,
   "metadata": {},
   "outputs": [],
   "source": [
    "# 读取每一行一开始的 PC 值，返回一个列表\n",
    "def read_instructions(fp):\n",
    "    return [\n",
    "        translate(line.split(':')[0])\n",
    "        for line in fp\n",
    "        if ':' in line\n",
    "    ]"
   ]
  },
  {
   "cell_type": "code",
   "execution_count": 4,
   "metadata": {},
   "outputs": [],
   "source": [
    "# 指定测试点\n",
    "target_name = 'coremark'\n",
    "target = f'{target_name}/{target_name}'\n",
    "\n",
    "lw_file_fp = open(f'{target}.lw', 'r')\n",
    "sw_file_fp = open(f'{target}.sw', 'r')\n",
    "trace_fp = open(f'{target}.txt', 'r')\n",
    "\n",
    "traces = list(map(lambda x: x.split(','), trace_fp.read().split('\\n')))\n",
    "\n",
    "# 使用 .sw 和 .lw 文件来辅助判断某条指令是不是 lw/sw\n",
    "# 因为 trace 中只会记录指令的 PC，而不会记录指令的编码，\n",
    "# 所以我们只能利用反汇编文件，用 PC 找到对应的指令是谁，\n",
    "# 从而确定是不是 lw/sw。\n",
    "sw_list = read_instructions(sw_file_fp)\n",
    "lw_list = read_instructions(lw_file_fp)\n",
    "sw_set = set(sw_list)\n",
    "lw_set = set(lw_list)"
   ]
  },
  {
   "cell_type": "code",
   "execution_count": 5,
   "metadata": {},
   "outputs": [
    {
     "output_type": "stream",
     "name": "stdout",
     "text": "x1faf_read_count: 9\nx1faf_write_count: 920\nx1fc_read_count: 478975\nx1fc_write_count: 16460\ninstr_count: 412268\nsw_count: 14187\nlw_count: 39027\npfn_count: Counter({'1fc09': 225666, '1fc07': 217798, '1fc05': 122702, '1fc04': 89720, '1fc06': 79070, '1fc1a': 76999, '1fc08': 53418, '1fc0a': 37959, '1fc01': 3572, '1fc00': 799})\n#pfn: 10\n"
    }
   ],
   "source": [
    "x1faf_read_count = 0\n",
    "x1faf_write_count = 0\n",
    "x1fc_read_count = 0\n",
    "x1fc_write_count = 0\n",
    "instr_count = 0\n",
    "sw_count = 0\n",
    "lw_count = 0\n",
    "pfn_count = Counter()\n",
    "tags = []\n",
    "for i in range(2**6):\n",
    "    tags.append(Counter())\n",
    "\n",
    "last_vaddr = None\n",
    "for rec in traces:\n",
    "    if len(rec) == 1:\n",
    "        continue\n",
    "    elif len(rec) == 2:\n",
    "        addr, channel = rec\n",
    "\n",
    "        if not addr.startswith('1faf'):\n",
    "            index = (int(addr, base=16) >> 6) & 0x3f\n",
    "            tag = addr[:5]\n",
    "            tags[index].update({tag: 1})\n",
    "            pfn_count.update({tag: 1})\n",
    "\n",
    "        if addr.startswith('1faf'):\n",
    "            if channel == 'aw':\n",
    "                x1faf_write_count += 1\n",
    "            else:\n",
    "                x1faf_read_count += 1\n",
    "        elif addr.startswith('1fc'):\n",
    "            if channel == 'aw':\n",
    "                x1fc_write_count += 1\n",
    "            else:\n",
    "                x1fc_read_count += 1\n",
    "        else:\n",
    "            raise RuntimeError(f'AXI: {addr}')\n",
    "    else:\n",
    "        vaddr, write_en, reg_num, data = rec\n",
    "        if vaddr == last_vaddr:\n",
    "            continue\n",
    "        last_vaddr = vaddr\n",
    "        instr_count += 1\n",
    "\n",
    "        paddr = translate(vaddr)\n",
    "        pfn_count.update({paddr[:5]: 1})\n",
    "\n",
    "        if paddr in sw_set:\n",
    "            sw_count += 1\n",
    "        elif paddr in lw_set:\n",
    "            lw_count += 1\n",
    "\n",
    "# 打印所有 *_count 变量\n",
    "local_map = copy.copy(locals())\n",
    "for key, value in local_map.items():\n",
    "    if key.endswith('count'):\n",
    "        print(f'{key}: {value}')\n",
    "del local_map\n",
    "\n",
    "print(f'#pfn: {len(pfn_count)}')"
   ]
  },
  {
   "cell_type": "code",
   "execution_count": 6,
   "metadata": {},
   "outputs": [
    {
     "output_type": "stream",
     "name": "stdout",
     "text": "max associativity: 9\n0: [7] Counter({'1fc06': 271, '1fc08': 64, '1fc0a': 35, '1fc09': 31, '1fc00': 17, '1fc07': 12, '1fc01': 8})\n1: [7] Counter({'1fc0a': 5449, '1fc09': 884, '1fc06': 258, '1fc08': 64, '1fc07': 16, '1fc01': 16, '1fc00': 12})\n2: [7] Counter({'1fc0a': 4603, '1fc05': 1524, '1fc07': 984, '1fc09': 756, '1fc08': 384, '1fc06': 240, '1fc01': 6})\n3: [6] Counter({'1fc08': 4208, '1fc0a': 3158, '1fc05': 1296, '1fc06': 710, '1fc07': 601, '1fc09': 58})\n4: [7] Counter({'1fc06': 1659, '1fc08': 1332, '1fc05': 1080, '1fc09': 512, '1fc0a': 128, '1fc07': 16, '1fc01': 5})\n5: [8] Counter({'1fc08': 4436, '1fc06': 1087, '1fc05': 1012, '1fc09': 941, '1fc0a': 256, '1fc04': 32, '1fc01': 16, '1fc07': 8})\n6: [8] Counter({'1fc08': 1536, '1fc06': 1089, '1fc05': 648, '1fc09': 643, '1fc0a': 620, '1fc04': 64, '1fc07': 15, '1fc01': 4})\n7: [7] Counter({'1fc05': 1528, '1fc06': 1012, '1fc0a': 748, '1fc08': 460, '1fc04': 416, '1fc09': 24, '1fc07': 5})\n8: [7] Counter({'1fc05': 4860, '1fc08': 1648, '1fc06': 1132, '1fc0a': 742, '1fc09': 189, '1fc07': 159, '1fc01': 4})\n9: [6] Counter({'1fc08': 1392, '1fc06': 1163, '1fc07': 392, '1fc0a': 138, '1fc09': 22, '1fc01': 13})\n10: [6] Counter({'1fc06': 1118, '1fc07': 1100, '1fc08': 424, '1fc09': 24, '1fc0a': 20, '1fc01': 14})\n11: [7] Counter({'1fc1a': 7368, '1fc08': 3140, '1fc06': 1157, '1fc07': 748, '1fc05': 648, '1fc04': 540, '1fc09': 436})\n12: [8] Counter({'1fc09': 12600, '1fc05': 10368, '1fc08': 2826, '1fc1a': 1036, '1fc06': 986, '1fc07': 814, '1fc04': 576, '1fc01': 4})\n13: [7] Counter({'1fc09': 22846, '1fc05': 10368, '1fc1a': 9780, '1fc06': 1067, '1fc07': 792, '1fc04': 352, '1fc01': 16})\n14: [8] Counter({'1fc09': 12648, '1fc05': 10368, '1fc06': 1063, '1fc1a': 549, '1fc04': 216, '1fc0a': 16, '1fc01': 15, '1fc00': 2})\n15: [8] Counter({'1fc09': 7794, '1fc05': 5976, '1fc06': 1203, '1fc07': 616, '1fc1a': 155, '1fc0a': 40, '1fc00': 16, '1fc01': 11})\n16: [8] Counter({'1fc1a': 7390, '1fc06': 1125, '1fc09': 300, '1fc05': 268, '1fc07': 264, '1fc0a': 60, '1fc00': 11, '1fc01': 10})\n17: [6] Counter({'1fc1a': 7088, '1fc09': 2226, '1fc06': 1072, '1fc07': 88, '1fc0a': 50, '1fc01': 10})\n18: [6] Counter({'1fc1a': 7027, '1fc06': 1010, '1fc09': 353, '1fc04': 144, '1fc0a': 14, '1fc01': 8})\n19: [6] Counter({'1fc1a': 6097, '1fc06': 1113, '1fc04': 576, '1fc09': 247, '1fc07': 22, '1fc01': 8})\n20: [8] Counter({'1fc1a': 4393, '1fc06': 1036, '1fc05': 648, '1fc04': 576, '1fc07': 55, '1fc09': 48, '1fc0a': 40, '1fc01': 16})\n21: [8] Counter({'1fc1a': 3281, '1fc05': 1656, '1fc06': 945, '1fc04': 576, '1fc09': 139, '1fc07': 22, '1fc01': 6, '1fc0a': 4})\n22: [5] Counter({'1fc05': 1080, '1fc06': 619, '1fc04': 212, '1fc09': 42, '1fc07': 22})\n23: [5] Counter({'1fc05': 1152, '1fc06': 500, '1fc09': 16, '1fc00': 9, '1fc01': 3})\n24: [6] Counter({'1fc05': 1080, '1fc09': 1022, '1fc06': 496, '1fc0a': 57, '1fc00': 11, '1fc01': 4})\n25: [5] Counter({'1fc09': 1643, '1fc05': 572, '1fc06': 468, '1fc0a': 62, '1fc00': 15})\n26: [8] Counter({'1fc1a': 1746, '1fc09': 550, '1fc04': 540, '1fc06': 471, '1fc05': 348, '1fc0a': 61, '1fc00': 13, '1fc01': 4})\n27: [8] Counter({'1fc1a': 3104, '1fc04': 1692, '1fc06': 539, '1fc05': 144, '1fc0a': 58, '1fc09': 43, '1fc01': 16, '1fc00': 13})\n28: [6] Counter({'1fc1a': 3116, '1fc04': 1080, '1fc06': 571, '1fc09': 180, '1fc0a': 38, '1fc01': 23})\n29: [6] Counter({'1fc1a': 2624, '1fc04': 1152, '1fc06': 528, '1fc09': 188, '1fc0a': 59, '1fc01': 16})\n30: [7] Counter({'1fc1a': 2336, '1fc04': 1080, '1fc06': 512, '1fc05': 360, '1fc09': 128, '1fc0a': 62, '1fc01': 16})\n31: [7] Counter({'1fc1a': 1424, '1fc06': 612, '1fc04': 608, '1fc05': 576, '1fc09': 116, '1fc0a': 63, '1fc01': 16})\n32: [7] Counter({'1fc06': 574, '1fc1a': 452, '1fc04': 416, '1fc05': 320, '1fc09': 96, '1fc0a': 63, '1fc01': 40})\n33: [7] Counter({'1fc1a': 448, '1fc06': 428, '1fc01': 144, '1fc04': 144, '1fc09': 96, '1fc0a': 64, '1fc05': 28})\n34: [6] Counter({'1fc09': 14471, '1fc06': 504, '1fc1a': 448, '1fc0a': 64, '1fc01': 45, '1fc00': 12})\n35: [6] Counter({'1fc09': 15260, '1fc06': 498, '1fc1a': 448, '1fc01': 144, '1fc0a': 17, '1fc00': 16})\n36: [5] Counter({'1fc09': 599, '1fc01': 576, '1fc06': 534, '1fc1a': 369, '1fc00': 15})\n37: [7] Counter({'1fc09': 702, '1fc1a': 583, '1fc06': 579, '1fc01': 495, '1fc04': 180, '1fc00': 16, '1fc0a': 3})\n38: [7] Counter({'1fc1a': 591, '1fc04': 576, '1fc06': 534, '1fc09': 104, '1fc0a': 89, '1fc00': 14, '1fc08': 3})\n39: [8] Counter({'1fc0a': 3068, '1fc04': 576, '1fc1a': 575, '1fc06': 450, '1fc09': 184, '1fc01': 27, '1fc00': 16, '1fc08': 16})\n40: [9] Counter({'1fc0a': 1586, '1fc1a': 583, '1fc04': 576, '1fc06': 515, '1fc09': 194, '1fc01': 24, '1fc08': 16, '1fc07': 16, '1fc00': 6})\n41: [8] Counter({'1fc1a': 588, '1fc06': 506, '1fc04': 344, '1fc0a': 182, '1fc07': 64, '1fc09': 32, '1fc08': 16, '1fc01': 3})\n42: [6] Counter({'1fc09': 1116, '1fc06': 585, '1fc1a': 580, '1fc0a': 194, '1fc07': 64, '1fc08': 10})\n43: [6] Counter({'1fc07': 12412, '1fc09': 3252, '1fc1a': 591, '1fc06': 552, '1fc0a': 108, '1fc08': 15})\n44: [6] Counter({'1fc07': 14688, '1fc09': 1568, '1fc1a': 583, '1fc06': 516, '1fc08': 112, '1fc0a': 5})\n45: [6] Counter({'1fc07': 14672, '1fc1a': 607, '1fc06': 467, '1fc04': 432, '1fc09': 274, '1fc08': 116})\n46: [6] Counter({'1fc04': 1512, '1fc1a': 595, '1fc07': 464, '1fc06': 439, '1fc09': 128, '1fc08': 108})\n47: [8] Counter({'1fc04': 1080, '1fc06': 528, '1fc1a': 310, '1fc07': 128, '1fc09': 128, '1fc08': 99, '1fc00': 16, '1fc0a': 5})\n48: [8] Counter({'1fc04': 1008, '1fc07': 512, '1fc06': 488, '1fc09': 118, '1fc1a': 109, '1fc08': 97, '1fc0a': 17, '1fc00': 16})\n49: [9] Counter({'1fc07': 3664, '1fc04': 1080, '1fc06': 388, '1fc09': 96, '1fc08': 72, '1fc1a': 25, '1fc00': 12, '1fc0a': 7, '1fc05': 2})\n50: [7] Counter({'1fc07': 732, '1fc04': 536, '1fc06': 534, '1fc05': 400, '1fc09': 56, '1fc0a': 10, '1fc08': 9})\n51: [5] Counter({'1fc07': 4208, '1fc04': 2080, '1fc06': 528, '1fc05': 239, '1fc09': 154})\n52: [6] Counter({'1fc07': 2856, '1fc04': 2268, '1fc06': 576, '1fc05': 248, '1fc09': 146, '1fc08': 16})\n53: [5] Counter({'1fc07': 900, '1fc06': 512, '1fc05': 280, '1fc00': 12, '1fc08': 10})\n54: [6] Counter({'1fc06': 441, '1fc05': 264, '1fc07': 256, '1fc08': 248, '1fc00': 16, '1fc09': 6})\n55: [6] Counter({'1fc07': 2048, '1fc06': 502, '1fc08': 265, '1fc05': 227, '1fc00': 15, '1fc09': 8})\n56: [7] Counter({'1fc07': 1192, '1fc04': 972, '1fc06': 455, '1fc08': 328, '1fc09': 216, '1fc05': 205, '1fc00': 16})\n57: [7] Counter({'1fc04': 5184, '1fc09': 2281, '1fc05': 240, '1fc07': 84, '1fc06': 70, '1fc08': 48, '1fc00': 15})\n58: [6] Counter({'1fc07': 17912, '1fc04': 5184, '1fc09': 3156, '1fc05': 253, '1fc08': 104, '1fc00': 16})\n59: [6] Counter({'1fc07': 21184, '1fc04': 5184, '1fc09': 364, '1fc05': 201, '1fc08': 83, '1fc00': 16})\n60: [6] Counter({'1fc04': 4608, '1fc07': 3256, '1fc05': 231, '1fc09': 167, '1fc08': 16, '1fc00': 14})\n61: [6] Counter({'1fc08': 816, '1fc04': 416, '1fc07': 268, '1fc05': 224, '1fc09': 54, '1fc00': 16})\n62: [6] Counter({'1fc08': 1544, '1fc07': 274, '1fc05': 214, '1fc09': 95, '1fc04': 72, '1fc00': 6})\n63: [4] Counter({'1fc08': 628, '1fc07': 294, '1fc05': 215, '1fc09': 63})\n"
    }
   ],
   "source": [
    "print(f'max associativity: {max(len(x) for x in tags)}')\n",
    "for i in range(2**6):\n",
    "    print(f'{i}: [{len(tags[i])}] {tags[i]}')"
   ]
  },
  {
   "cell_type": "code",
   "execution_count": 7,
   "metadata": {},
   "outputs": [
    {
     "output_type": "stream",
     "name": "stdout",
     "text": "axi_count = 496364\n"
    }
   ],
   "source": [
    "axi_count = x1faf_read_count + x1faf_write_count + x1fc_read_count + x1fc_write_count\n",
    "print(f'axi_count = {axi_count}')"
   ]
  },
  {
   "cell_type": "code",
   "execution_count": 8,
   "metadata": {},
   "outputs": [
    {
     "output_type": "stream",
     "name": "stdout",
     "text": "cpu_count = 465482\n"
    }
   ],
   "source": [
    "cpu_count = instr_count + sw_count + lw_count\n",
    "print(f'cpu_count = {cpu_count}')"
   ]
  },
  {
   "cell_type": "code",
   "execution_count": 9,
   "metadata": {},
   "outputs": [
    {
     "output_type": "stream",
     "name": "stdout",
     "text": "diff = 30882\n"
    }
   ],
   "source": [
    "diff = axi_count - cpu_count\n",
    "print(f'diff = {diff}')"
   ]
  }
 ],
 "metadata": {
  "language_info": {
   "codemirror_mode": {
    "name": "ipython",
    "version": 3
   },
   "file_extension": ".py",
   "mimetype": "text/x-python",
   "name": "python",
   "nbconvert_exporter": "python",
   "pygments_lexer": "ipython3",
   "version": "3.8.3-final"
  },
  "orig_nbformat": 2,
  "kernelspec": {
   "name": "python38264bit5c696f5e9b0b4bef9ebf4dbdc9292845",
   "display_name": "Python 3.8.2 64-bit"
  }
 },
 "nbformat": 4,
 "nbformat_minor": 2
}