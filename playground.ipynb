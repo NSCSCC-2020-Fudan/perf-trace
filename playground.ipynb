{
 "cells": [
  {
   "cell_type": "code",
   "execution_count": 1,
   "metadata": {},
   "outputs": [],
   "source": [
    "import copy\n",
    "from collections import Counter"
   ]
  },
  {
   "cell_type": "code",
   "execution_count": 2,
   "metadata": {},
   "outputs": [],
   "source": [
    "# 读取每一行一开始的 PC 值，返回一个列表\n",
    "def read_instructions(fp):\n",
    "    return [\n",
    "        line.split(':')[0]\n",
    "        for line in fp\n",
    "        if ':' in line\n",
    "    ]"
   ]
  },
  {
   "cell_type": "code",
   "execution_count": 3,
   "metadata": {},
   "outputs": [],
   "source": [
    "# 指定测试点\n",
    "target_name = 'coremark'\n",
    "target = f'{target_name}/{target_name}'\n",
    "\n",
    "lw_file_fp = open(f'{target}.lw', 'r')\n",
    "sw_file_fp = open(f'{target}.sw', 'r')\n",
    "trace_fp = open(f'{target}.txt', 'r')\n",
    "\n",
    "traces = list(map(lambda x: x.split(','), trace_fp.read().split('\\n')))\n",
    "\n",
    "# 使用 .sw 和 .lw 文件来辅助判断某条指令是不是 lw/sw\n",
    "# 因为 trace 中只会记录指令的 PC，而不会记录指令的编码，\n",
    "# 所以我们只能利用反汇编文件，用 PC 找到对应的指令是谁，\n",
    "# 从而确定是不是 lw/sw。\n",
    "sw_list = read_instructions(sw_file_fp)\n",
    "lw_list = read_instructions(lw_file_fp)\n",
    "sw_set = set(sw_list)\n",
    "lw_set = set(lw_list)"
   ]
  },
  {
   "cell_type": "code",
   "execution_count": 4,
   "metadata": {},
   "outputs": [],
   "source": [
    "def translate(vaddr_str):\n",
    "    vaddr = int(vaddr_str, base=16)\n",
    "    if 0x80000000 <= vaddr <= 0x9FFFFFFF:\n",
    "        addr = vaddr - 0x80000000\n",
    "    elif 0xA0000000 <= vaddr <= 0xBFFFFFFF:\n",
    "        addr = vaddr - 0xA0000000\n",
    "    else:\n",
    "        raise ValueError(vaddr_str)\n",
    "    return '{:08x}'.format(addr)"
   ]
  },
  {
   "cell_type": "code",
   "execution_count": 5,
   "metadata": {},
   "outputs": [
    {
     "output_type": "stream",
     "name": "stdout",
     "text": "x1faf_read_count: 9\nx1faf_write_count: 920\nx1fc_read_count: 478975\nx1fc_write_count: 16460\ninstr_count: 412268\nsw_count: 14177\nlw_count: 39023\n"
    }
   ],
   "source": [
    "x1faf_read_count = 0\n",
    "x1faf_write_count = 0\n",
    "x1fc_read_count = 0\n",
    "x1fc_write_count = 0\n",
    "instr_count = 0\n",
    "sw_count = 0\n",
    "lw_count = 0\n",
    "\n",
    "last_vaddr = None\n",
    "for rec in traces:\n",
    "    if len(rec) == 1:\n",
    "        continue\n",
    "    elif len(rec) == 2:\n",
    "        addr, channel = rec\n",
    "        if addr.startswith('1faf'):\n",
    "            if channel == 'aw':\n",
    "                x1faf_write_count += 1\n",
    "            else:\n",
    "                x1faf_read_count += 1\n",
    "        elif addr.startswith('1fc'):\n",
    "            if channel == 'aw':\n",
    "                x1fc_write_count += 1\n",
    "            else:\n",
    "                x1fc_read_count += 1\n",
    "        else:\n",
    "            raise RuntimeError(f'AXI: {addr}')\n",
    "    else:\n",
    "        vaddr, write_en, reg_num, data = rec\n",
    "        if vaddr == last_vaddr:\n",
    "            continue\n",
    "        last_vaddr = vaddr\n",
    "        instr_count += 1\n",
    "\n",
    "        if vaddr in sw_set:\n",
    "            sw_count += 1\n",
    "        elif vaddr in lw_set:\n",
    "            lw_count += 1\n",
    "\n",
    "# 打印所有 *_count 变量\n",
    "local_map = copy.copy(locals())\n",
    "for key, value in local_map.items():\n",
    "    if key.endswith('count'):\n",
    "        print(f'{key}: {value}')\n",
    "del local_map"
   ]
  },
  {
   "cell_type": "code",
   "execution_count": 6,
   "metadata": {},
   "outputs": [
    {
     "output_type": "stream",
     "name": "stdout",
     "text": "axi_count = 496364\n"
    }
   ],
   "source": [
    "axi_count = x1faf_read_count + x1faf_write_count + x1fc_read_count + x1fc_write_count\n",
    "print(f'axi_count = {axi_count}')"
   ]
  },
  {
   "cell_type": "code",
   "execution_count": 7,
   "metadata": {},
   "outputs": [
    {
     "output_type": "stream",
     "name": "stdout",
     "text": "cpu_count = 465468\n"
    }
   ],
   "source": [
    "cpu_count = instr_count + sw_count + lw_count\n",
    "print(f'cpu_count = {cpu_count}')"
   ]
  },
  {
   "cell_type": "code",
   "execution_count": 8,
   "metadata": {},
   "outputs": [
    {
     "output_type": "stream",
     "name": "stdout",
     "text": "diff = 30896\n"
    }
   ],
   "source": [
    "diff = axi_count - cpu_count\n",
    "print(f'diff = {diff}')"
   ]
  }
 ],
 "metadata": {
  "language_info": {
   "codemirror_mode": {
    "name": "ipython",
    "version": 3
   },
   "file_extension": ".py",
   "mimetype": "text/x-python",
   "name": "python",
   "nbconvert_exporter": "python",
   "pygments_lexer": "ipython3",
   "version": "3.8.3-final"
  },
  "orig_nbformat": 2,
  "kernelspec": {
   "name": "python38264bit5c696f5e9b0b4bef9ebf4dbdc9292845",
   "display_name": "Python 3.8.2 64-bit"
  }
 },
 "nbformat": 4,
 "nbformat_minor": 2
}